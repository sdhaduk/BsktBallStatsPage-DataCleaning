{
 "cells": [
  {
   "cell_type": "code",
   "execution_count": 1,
   "metadata": {},
   "outputs": [],
   "source": [
    "import pandas as pd"
   ]
  },
  {
   "cell_type": "code",
   "execution_count": 2,
   "metadata": {},
   "outputs": [
    {
     "name": "stdout",
     "output_type": "stream",
     "text": [
      "       seas_id  season  player_id          player  birth_year  pos   age  \\\n",
      "0        30458    2023       5025      A.J. Green         NaN   SG  23.0   \n",
      "1        30459    2023       5026     A.J. Lawson         NaN   SG  22.0   \n",
      "2        30460    2023       5026     A.J. Lawson         NaN   SG  22.0   \n",
      "3        30461    2023       5026     A.J. Lawson         NaN   SG  22.0   \n",
      "4        30462    2023       4219    Aaron Gordon         NaN   PF  27.0   \n",
      "...        ...     ...        ...             ...         ...  ...   ...   \n",
      "31130      200    1947        157     Walt Miller         NaN    F  31.0   \n",
      "31131      201    1947        158   Warren Fenley         NaN    F  24.0   \n",
      "31132      202    1947        159   Wilbert Kautz         NaN  G-F  31.0   \n",
      "31133      203    1947        160  Woody Grimshaw         NaN    G  27.0   \n",
      "31134      204    1947        161     Wyndol Gray         NaN  G-F  24.0   \n",
      "\n",
      "       experience   lg   tm  ...  ft_percent  orb_per_game  drb_per_game  \\\n",
      "0               1  NBA  MIL  ...       1.000           0.2           1.1   \n",
      "1               1  NBA  TOT  ...       0.250           0.4           1.0   \n",
      "2               1  NBA  MIN  ...         NaN           0.0           1.0   \n",
      "3               1  NBA  DAL  ...       0.250           0.4           1.0   \n",
      "4               9  NBA  DEN  ...       0.608           2.4           4.1   \n",
      "...           ...  ...  ...  ...         ...           ...           ...   \n",
      "31130           1  BAA  PIT  ...       0.500           NaN           NaN   \n",
      "31131           1  BAA  BOS  ...       0.511           NaN           NaN   \n",
      "31132           1  BAA  CHS  ...       0.534           NaN           NaN   \n",
      "31133           1  BAA  PRO  ...       0.477           NaN           NaN   \n",
      "31134           1  BAA  BOS  ...       0.581           NaN           NaN   \n",
      "\n",
      "       trb_per_game  ast_per_game  stl_per_game  blk_per_game  tov_per_game  \\\n",
      "0               1.3           0.6           0.2           0.0           0.3   \n",
      "1               1.4           0.1           0.1           0.0           0.2   \n",
      "2               1.0           0.0           0.0           0.0           0.0   \n",
      "3               1.4           0.1           0.1           0.0           0.2   \n",
      "4               6.6           3.0           0.8           0.8           1.4   \n",
      "...             ...           ...           ...           ...           ...   \n",
      "31130           NaN           0.5           NaN           NaN           NaN   \n",
      "31131           NaN           0.5           NaN           NaN           NaN   \n",
      "31132           NaN           0.7           NaN           NaN           NaN   \n",
      "31133           NaN           0.0           NaN           NaN           NaN   \n",
      "31134           NaN           0.9           NaN           NaN           NaN   \n",
      "\n",
      "       pf_per_game  pts_per_game  \n",
      "0              0.9           4.4  \n",
      "1              0.7           3.7  \n",
      "2              1.0           2.0  \n",
      "3              0.7           3.9  \n",
      "4              1.9          16.3  \n",
      "...            ...           ...  \n",
      "31130          1.3           1.9  \n",
      "31131          1.8           2.6  \n",
      "31132          2.3           5.1  \n",
      "31133          1.2           2.9  \n",
      "31134          1.9           6.4  \n",
      "\n",
      "[31135 rows x 35 columns]\n"
     ]
    }
   ],
   "source": [
    "df = pd.read_csv(\"Player Per Game.csv\")\n",
    "print(df)"
   ]
  },
  {
   "cell_type": "markdown",
   "metadata": {},
   "source": [
    "Cleaning data by removing columns and rows that I do not need:"
   ]
  },
  {
   "cell_type": "code",
   "execution_count": 3,
   "metadata": {},
   "outputs": [],
   "source": [
    "columnName = [\"seas_id\", \"birth_year\", \"experience\", \"lg\", \"x3p_per_game\", \"x3pa_per_game\", \"x2p_per_game\", \"x2pa_per_game\", \"ft_per_game\", \"fta_per_game\"]\n",
    "\n",
    "df.drop(columnName, axis=1, inplace=True)"
   ]
  },
  {
   "cell_type": "code",
   "execution_count": 4,
   "metadata": {},
   "outputs": [],
   "source": [
    "df.drop(df[df[\"season\"] != 2023].index, inplace = True)"
   ]
  },
  {
   "cell_type": "code",
   "execution_count": 5,
   "metadata": {},
   "outputs": [],
   "source": [
    "playerNames = df[\"player\"].value_counts()\n",
    "playerNames = playerNames[playerNames > 1].index.tolist()\n",
    "for i in playerNames:\n",
    "    name = i \n",
    "    indexPlayer = df[(df[\"tm\"] != \"TOT\") & (df[\"player\"] == name)].index\n",
    "    df.drop(indexPlayer, inplace= True)\n",
    "\n"
   ]
  },
  {
   "cell_type": "markdown",
   "metadata": {},
   "source": [
    "Replacing NULL values from data:"
   ]
  },
  {
   "cell_type": "code",
   "execution_count": 11,
   "metadata": {},
   "outputs": [
    {
     "name": "stdout",
     "output_type": "stream",
     "text": [
      "season          False\n",
      "player_id       False\n",
      "player          False\n",
      "pos             False\n",
      "age             False\n",
      "tm              False\n",
      "g               False\n",
      "gs              False\n",
      "mp_per_game     False\n",
      "fg_per_game     False\n",
      "fga_per_game    False\n",
      "fg_percent       True\n",
      "x3p_percent      True\n",
      "x2p_percent      True\n",
      "e_fg_percent     True\n",
      "ft_percent       True\n",
      "orb_per_game    False\n",
      "drb_per_game    False\n",
      "trb_per_game    False\n",
      "ast_per_game    False\n",
      "stl_per_game    False\n",
      "blk_per_game    False\n",
      "tov_per_game    False\n",
      "pf_per_game     False\n",
      "pts_per_game    False\n",
      "dtype: bool\n"
     ]
    }
   ],
   "source": [
    "print(df.isnull().any())"
   ]
  },
  {
   "cell_type": "code",
   "execution_count": 14,
   "metadata": {},
   "outputs": [
    {
     "name": "stdout",
     "output_type": "stream",
     "text": [
      "     season  player_id              player pos   age   tm  g   gs  \\\n",
      "16     2023       5028    Alondes Williams  SG  23.0  BRK  1  0.0   \n",
      "467    2023       5083  Michael Foster Jr.  PF  20.0  PHI  1  0.0   \n",
      "\n",
      "     mp_per_game  fg_per_game  ...  ft_percent  orb_per_game  drb_per_game  \\\n",
      "16           5.0          0.0  ...         NaN           0.0           1.0   \n",
      "467          1.0          0.0  ...         NaN           0.0           0.0   \n",
      "\n",
      "     trb_per_game  ast_per_game  stl_per_game  blk_per_game  tov_per_game  \\\n",
      "16            1.0           0.0           0.0           0.0           2.0   \n",
      "467           0.0           0.0           0.0           0.0           0.0   \n",
      "\n",
      "     pf_per_game  pts_per_game  \n",
      "16           1.0           0.0  \n",
      "467          0.0           0.0  \n",
      "\n",
      "[2 rows x 25 columns]\n"
     ]
    }
   ],
   "source": [
    "null_value = df[df['fg_percent'].isnull()]\n",
    "print(null_value)"
   ]
  },
  {
   "cell_type": "code",
   "execution_count": 16,
   "metadata": {},
   "outputs": [],
   "source": [
    "df.at[16, \"fg_percent\"] = 1000\n",
    "df.at[467, \"fg_percent\"] = 1000"
   ]
  },
  {
   "cell_type": "code",
   "execution_count": 21,
   "metadata": {},
   "outputs": [],
   "source": [
    "null_value = df[df['x3p_percent'].isnull()]\n",
    "for i in null_value.index:\n",
    "    df.at[i, \"x3p_percent\"] = 1000"
   ]
  },
  {
   "cell_type": "code",
   "execution_count": 23,
   "metadata": {},
   "outputs": [],
   "source": [
    "null_value = df[df['x2p_percent'].isnull()] \n",
    "for i in null_value.index:\n",
    "    df.at[i, \"x2p_percent\"] = 1000"
   ]
  },
  {
   "cell_type": "code",
   "execution_count": 24,
   "metadata": {},
   "outputs": [],
   "source": [
    "null_value = df[df['e_fg_percent'].isnull()]\n",
    "for i in null_value.index:\n",
    "    df.at[i, 'e_fg_percent'] = 1000"
   ]
  },
  {
   "cell_type": "code",
   "execution_count": 26,
   "metadata": {},
   "outputs": [],
   "source": [
    "null_value = df[df['ft_percent'].isnull()]\n",
    "for i in null_value.index:\n",
    "    df.at[i, 'ft_percent'] = 1000"
   ]
  },
  {
   "cell_type": "code",
   "execution_count": 27,
   "metadata": {},
   "outputs": [
    {
     "name": "stdout",
     "output_type": "stream",
     "text": [
      "season          False\n",
      "player_id       False\n",
      "player          False\n",
      "pos             False\n",
      "age             False\n",
      "tm              False\n",
      "g               False\n",
      "gs              False\n",
      "mp_per_game     False\n",
      "fg_per_game     False\n",
      "fga_per_game    False\n",
      "fg_percent      False\n",
      "x3p_percent     False\n",
      "x2p_percent     False\n",
      "e_fg_percent    False\n",
      "ft_percent      False\n",
      "orb_per_game    False\n",
      "drb_per_game    False\n",
      "trb_per_game    False\n",
      "ast_per_game    False\n",
      "stl_per_game    False\n",
      "blk_per_game    False\n",
      "tov_per_game    False\n",
      "pf_per_game     False\n",
      "pts_per_game    False\n",
      "dtype: bool\n"
     ]
    }
   ],
   "source": [
    "print(df.isnull().any())"
   ]
  },
  {
   "cell_type": "markdown",
   "metadata": {},
   "source": [
    "Data is ready to be used"
   ]
  },
  {
   "cell_type": "code",
   "execution_count": null,
   "metadata": {},
   "outputs": [],
   "source": [
    "df.to_csv('player_data.csv')"
   ]
  }
 ],
 "metadata": {
  "kernelspec": {
   "display_name": ".venv",
   "language": "python",
   "name": "python3"
  },
  "language_info": {
   "codemirror_mode": {
    "name": "ipython",
    "version": 3
   },
   "file_extension": ".py",
   "mimetype": "text/x-python",
   "name": "python",
   "nbconvert_exporter": "python",
   "pygments_lexer": "ipython3",
   "version": "3.10.4"
  },
  "orig_nbformat": 4
 },
 "nbformat": 4,
 "nbformat_minor": 2
}
